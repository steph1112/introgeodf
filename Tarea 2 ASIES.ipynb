{
 "cells": [
  {
   "cell_type": "markdown",
   "metadata": {
    "id": "Rq_-jS9HtUU-"
   },
   "source": [
    "<img src=\"https://i.imgur.com/6U6q5jQ.png\"/>"
   ]
  },
  {
   "cell_type": "markdown",
   "metadata": {
    "id": "-cCaZ1r2tUVA"
   },
   "source": [
    "<a target=\"_blank\" href=\"https://colab.research.google.com/github/SocialAnalytics-StrategicIntelligence/GeoDFBasics_py/blob/main/index.ipynb\">\n",
    "  <img src=\"https://colab.research.google.com/assets/colab-badge.svg\" alt=\"Open In Colab\"/>\n",
    "</a>\n",
    "\n",
    "# The Geo Dataframe\n",
    "\n",
    "The geodataframe (GDF) is a dataframe (DF) where every row represents an spatial element (point, line, polygon).\n",
    "\n",
    "Historically, the most common file type that stores spatial elements is the shapefile. Let's take a look at some of them:\n",
    "\n",
    "1. In GitHub (cloud), create a repository named: introgeodf.\n",
    "2. Clone that repo to a local folder in your computer.\n",
    "3. In that local folder in your computer, create a folder named **maps**.\n",
    "4. Go to paidea and download three compressed files.\n",
    "5. Download those files into the folder **maps** in your computer: *countries*, *cities*, and *rivers*."
   ]
  },
  {
   "cell_type": "markdown",
   "metadata": {
    "id": "PhGJmen1tUVB"
   },
   "source": [
    "You may see something like this:\n",
    "\n",
    "<img src=\"https://github.com/CienciaDeDatosEspacial/code_and_data/blob/main/mapsFolderImage.png?raw=true\">"
   ]
  },
  {
   "cell_type": "markdown",
   "metadata": {
    "id": "HBs3ovRstUVB"
   },
   "source": [
    "You can decompress those files:\n",
    "\n",
    "<img title=\"a title\" alt=\"Alt text\" src=\"https://github.com/CienciaDeDatosEspacial/code_and_data/blob/main/folderRar_1.png?raw=true\">"
   ]
  },
  {
   "cell_type": "markdown",
   "metadata": {
    "id": "OzvFDa2JtUVB"
   },
   "source": [
    "Now, take a look a **World_Countries**:\n",
    "\n",
    "<img src=\"https://github.com/CienciaDeDatosEspacial/code_and_data/blob/main/imageCountries_shp.png?raw=true\">"
   ]
  },
  {
   "cell_type": "markdown",
   "metadata": {
    "id": "BUOIWMOTtUVB"
   },
   "source": [
    "There, you see that this **one map** requires **several files**. That is the nature of the shapefile.\n",
    "\n",
    "Let's read the file with the help of **geopandas**:"
   ]
  },
  {
   "cell_type": "code",
   "execution_count": 2,
   "metadata": {},
   "outputs": [
    {
     "name": "stdout",
     "output_type": "stream",
     "text": [
      "Note: you may need to restart the kernel to use updated packages.\n"
     ]
    },
    {
     "name": "stderr",
     "output_type": "stream",
     "text": [
      "WARNING: Retrying (Retry(total=4, connect=None, read=None, redirect=None, status=None)) after connection broken by 'ReadTimeoutError(\"HTTPSConnectionPool(host='pypi.org', port=443): Read timed out. (read timeout=15)\")': /simple/geopandas/\n",
      "WARNING: Retrying (Retry(total=3, connect=None, read=None, redirect=None, status=None)) after connection broken by 'ReadTimeoutError(\"HTTPSConnectionPool(host='pypi.org', port=443): Read timed out. (read timeout=15)\")': /simple/geopandas/\n",
      "WARNING: Retrying (Retry(total=2, connect=None, read=None, redirect=None, status=None)) after connection broken by 'ReadTimeoutError(\"HTTPSConnectionPool(host='pypi.org', port=443): Read timed out. (read timeout=15)\")': /simple/geopandas/\n",
      "WARNING: Retrying (Retry(total=1, connect=None, read=None, redirect=None, status=None)) after connection broken by 'ReadTimeoutError(\"HTTPSConnectionPool(host='pypi.org', port=443): Read timed out. (read timeout=15)\")': /simple/geopandas/\n",
      "WARNING: Retrying (Retry(total=0, connect=None, read=None, redirect=None, status=None)) after connection broken by 'ReadTimeoutError(\"HTTPSConnectionPool(host='pypi.org', port=443): Read timed out. (read timeout=15)\")': /simple/geopandas/\n",
      "ERROR: Could not find a version that satisfies the requirement geopandas (from versions: none)\n",
      "ERROR: No matching distribution found for geopandas\n"
     ]
    }
   ],
   "source": [
    "pip install geopandas\n"
   ]
  },
  {
   "cell_type": "code",
   "execution_count": 1,
   "metadata": {
    "id": "KJV5G0POtUVB"
   },
   "outputs": [
    {
     "ename": "ModuleNotFoundError",
     "evalue": "No module named 'geopandas'",
     "output_type": "error",
     "traceback": [
      "\u001b[1;31m---------------------------------------------------------------------------\u001b[0m",
      "\u001b[1;31mModuleNotFoundError\u001b[0m                       Traceback (most recent call last)",
      "Cell \u001b[1;32mIn[1], line 1\u001b[0m\n\u001b[1;32m----> 1\u001b[0m \u001b[38;5;28;01mimport\u001b[39;00m \u001b[38;5;21;01mos\u001b[39;00m\u001b[38;5;241m,\u001b[39m \u001b[38;5;21;01mgeopandas\u001b[39;00m \u001b[38;5;28;01mas\u001b[39;00m \u001b[38;5;21;01mgpd\u001b[39;00m\n\u001b[0;32m      3\u001b[0m countries\u001b[38;5;241m=\u001b[39mgpd\u001b[38;5;241m.\u001b[39mread_file(os\u001b[38;5;241m.\u001b[39mpath\u001b[38;5;241m.\u001b[39mjoin(\u001b[38;5;124m\"\u001b[39m\u001b[38;5;124mmaps\u001b[39m\u001b[38;5;124m\"\u001b[39m,\u001b[38;5;124m\"\u001b[39m\u001b[38;5;124mWorld_Countries\u001b[39m\u001b[38;5;124m\"\u001b[39m,\u001b[38;5;124m\"\u001b[39m\u001b[38;5;124mWorld_Countries.shp\u001b[39m\u001b[38;5;124m\"\u001b[39m))\n",
      "\u001b[1;31mModuleNotFoundError\u001b[0m: No module named 'geopandas'"
     ]
    }
   ],
   "source": [
    "import os, geopandas as gpd\n",
    "\n",
    "countries=gpd.read_file(os.path.join(\"maps\",\"World_Countries\",\"World_Countries.shp\"))"
   ]
  },
  {
   "cell_type": "markdown",
   "metadata": {
    "id": "a5AOj3mktUVC"
   },
   "source": [
    "Let's use some familiar DF functions:"
   ]
  },
  {
   "cell_type": "code",
   "execution_count": null,
   "metadata": {
    "colab": {
     "base_uri": "https://localhost:8080/",
     "height": 186
    },
    "id": "BTVBGfNatUVC",
    "outputId": "15128d8d-17f3-4ced-9994-928ac8ea4ffe"
   },
   "outputs": [],
   "source": [
    "# what is it?\n",
    "type(countries)"
   ]
  },
  {
   "cell_type": "code",
   "execution_count": null,
   "metadata": {
    "colab": {
     "base_uri": "https://localhost:8080/"
    },
    "id": "AkvWskZytUVC",
    "outputId": "68e4d3d2-9b42-4bbf-d82c-fc8f3c004046"
   },
   "outputs": [],
   "source": [
    "# dimensions\n",
    "countries.shape"
   ]
  },
  {
   "cell_type": "code",
   "execution_count": null,
   "metadata": {
    "colab": {
     "base_uri": "https://localhost:8080/"
    },
    "id": "ETJdBBR1tUVD",
    "outputId": "8083ba37-3e2f-4bf1-8c65-434b7d74f4b6"
   },
   "outputs": [],
   "source": [
    "# names\n",
    "countries.columns"
   ]
  },
  {
   "cell_type": "code",
   "execution_count": null,
   "metadata": {
    "colab": {
     "base_uri": "https://localhost:8080/",
     "height": 206
    },
    "id": "QrbZt4g5tUVD",
    "outputId": "ab2017df-b235-43ac-86b5-790bba1ad478"
   },
   "outputs": [],
   "source": [
    "# some content\n",
    "countries.head()"
   ]
  },
  {
   "cell_type": "code",
   "execution_count": null,
   "metadata": {
    "colab": {
     "base_uri": "https://localhost:8080/",
     "height": 53
    },
    "id": "vPHdGEtatUVD",
    "outputId": "09d02ffb-93b6-48b9-eae3-35e52e228265"
   },
   "outputs": [],
   "source": [
    "# any missing values?\n",
    "countries[countries.isna().any(axis=1)]"
   ]
  },
  {
   "cell_type": "code",
   "execution_count": null,
   "metadata": {
    "colab": {
     "base_uri": "https://localhost:8080/"
    },
    "id": "TWXmBv-vtUVD",
    "outputId": "28283756-b53b-4535-9f91-bdd4b702a467",
    "scrolled": true
   },
   "outputs": [],
   "source": [
    "# types\n",
    "countries.info()"
   ]
  },
  {
   "cell_type": "markdown",
   "metadata": {
    "id": "QzT4ctrjtUVD"
   },
   "source": [
    "As you see, every pandas command is working, but now we have a new column type: **geometry**. Let's see this map of countries:"
   ]
  },
  {
   "cell_type": "code",
   "execution_count": null,
   "metadata": {
    "colab": {
     "base_uri": "https://localhost:8080/",
     "height": 317
    },
    "id": "DjMj9myHtUVD",
    "outputId": "310af956-be3d-4d4d-92bb-c6b341a91486"
   },
   "outputs": [],
   "source": [
    "countries.plot(facecolor=\"azure\",#color of polygon fill\n",
    "               edgecolor='black', #color of lines\n",
    "               linewidth=0.1) #thickness of lines"
   ]
  },
  {
   "cell_type": "markdown",
   "metadata": {
    "id": "iCtifGnqtUVD"
   },
   "source": [
    "Let's open the other maps:"
   ]
  },
  {
   "cell_type": "code",
   "execution_count": null,
   "metadata": {
    "id": "lPbJ4wFHtUVD"
   },
   "outputs": [],
   "source": [
    "rivers=gpd.read_file(os.path.join(\"maps\",\"World_Hydrography\",\"World_Hydrography.shp\"))\n",
    "cities=gpd.read_file(os.path.join(\"maps\",\"World_Cities\",\"World_Cities.shp\"))"
   ]
  },
  {
   "cell_type": "markdown",
   "metadata": {
    "id": "saLECWsHVhKk"
   },
   "source": [
    "This is the rivers map:"
   ]
  },
  {
   "cell_type": "code",
   "execution_count": null,
   "metadata": {
    "colab": {
     "base_uri": "https://localhost:8080/",
     "height": 253
    },
    "id": "8Gap_au4tUVD",
    "outputId": "8eee2310-5fbd-4ba2-8393-6a33b3a64b1a"
   },
   "outputs": [],
   "source": [
    "rivers.plot(edgecolor='blue',\n",
    "            linewidth=1,\n",
    "            linestyle='dotted')"
   ]
  },
  {
   "cell_type": "markdown",
   "metadata": {
    "id": "heT_-rcDVhKk"
   },
   "source": [
    "This is the cities map:"
   ]
  },
  {
   "cell_type": "code",
   "execution_count": null,
   "metadata": {
    "colab": {
     "base_uri": "https://localhost:8080/",
     "height": 272
    },
    "id": "8nAC2GkptUVD",
    "outputId": "522a4bc5-ee5d-43d5-bdff-5e843d497e21"
   },
   "outputs": [],
   "source": [
    "cities.plot(marker='.', # marker type\n",
    "            color='red',\n",
    "            markersize=1,\n",
    "            alpha=0.3) # transparency"
   ]
  },
  {
   "cell_type": "markdown",
   "metadata": {
    "id": "prkK6IA8tUVE"
   },
   "source": [
    "You can plot all the layers, as long as they share the same projection.\n",
    "Let's verify that all have the same projection (**CRS**):"
   ]
  },
  {
   "cell_type": "code",
   "execution_count": null,
   "metadata": {
    "colab": {
     "base_uri": "https://localhost:8080/"
    },
    "id": "8G0MkpZ1tUVE",
    "outputId": "d061fe0e-8b39-42ad-bbbb-5add28ba75f6"
   },
   "outputs": [],
   "source": [
    "countries.crs==cities.crs==cities.crs"
   ]
  },
  {
   "cell_type": "markdown",
   "metadata": {
    "id": "ZOiFM3uYtUVE"
   },
   "source": [
    "You can start by creating the layer on the back (the base), and add layers on top:\n",
    "\n",
    "> Agregar bloque entrecomillado\n",
    "\n"
   ]
  },
  {
   "cell_type": "code",
   "execution_count": null,
   "metadata": {
    "colab": {
     "base_uri": "https://localhost:8080/",
     "height": 354
    },
    "id": "rqkVAvHstUVE",
    "outputId": "6442f71f-9d75-49e9-8842-11cf962d8ef0"
   },
   "outputs": [],
   "source": [
    "base = countries.plot(facecolor=\"white\",\n",
    "                      edgecolor='black',\n",
    "                      linewidth=0.1,\n",
    "                      figsize=(12,12))\n",
    "\n",
    "rivers.plot(edgecolor='blue', linewidth=0.4,\n",
    "            ax=base)# on top of...\n",
    "cities.plot(marker='.', color='red', markersize=1,alpha=0.7,\n",
    "            ax=base) # on top of...\n"
   ]
  },
  {
   "cell_type": "code",
   "execution_count": null,
   "metadata": {
    "id": "OMjkLZPLVhKl"
   },
   "outputs": [],
   "source": [
    "countries.to_file(os.path.join(\"maps\",\"worldMap.gpkg\"),layer='countryBorders', driver=\"GPKG\")\n",
    "rivers.to_file(os.path.join(\"maps\",\"worldMap.gpkg\"),layer='riverLines', driver=\"GPKG\")\n",
    "cities.to_file(os.path.join(\"maps\",\"worldMap.gpkg\"),layer='cityPoints', driver=\"GPKG\")"
   ]
  },
  {
   "cell_type": "markdown",
   "metadata": {
    "id": "j6HOjagvVhKl"
   },
   "source": [
    "**texto en negrita**### Exercise 1\n",
    "<div class=\"alert-success\">\n",
    "\n",
    "1. Commit and push the recently created geopackage.\n",
    "    \n",
    "2. Get the link from Github to read the geopackage into R.\n",
    "    \n",
    "3. Using the sf library in R, confirm the layers created (use st_layers), and open each map (read_sf). Draw the three layers (as we did in Python) using ggplot.\n",
    "    \n",
    "</div>"
   ]
  },
  {
   "cell_type": "markdown",
   "metadata": {
    "id": "4WVBq3bUtUVE"
   },
   "source": [
    "## Subsetting\n",
    "\n",
    "You can subset your map by *filtering*:"
   ]
  },
  {
   "cell_type": "code",
   "execution_count": 15,
   "metadata": {
    "id": "NsiI-8ZYtUVE"
   },
   "outputs": [],
   "source": [
    "brazil=countries[countries.COUNTRY=='Brazil']"
   ]
  },
  {
   "cell_type": "markdown",
   "metadata": {
    "id": "biux_VKutUVF"
   },
   "source": [
    "But you can also subset by *clipping*, as sometimes other data frames may not have the same fields for filtering:"
   ]
  },
  {
   "cell_type": "code",
   "execution_count": 16,
   "metadata": {
    "id": "ltxxI2OotUVF"
   },
   "outputs": [],
   "source": [
    "citiesBrazil_clipped = gpd.clip(gdf=cities,\n",
    "                          mask=brazil)\n",
    "riversBrazil_clipped = gpd.clip(gdf=rivers,\n",
    "                               mask=brazil)"
   ]
  },
  {
   "cell_type": "markdown",
   "metadata": {
    "id": "2nXd5aiRtUVF"
   },
   "source": [
    "Then, you can plot the clipped version:"
   ]
  },
  {
   "cell_type": "code",
   "execution_count": 17,
   "metadata": {
    "colab": {
     "base_uri": "https://localhost:8080/",
     "height": 462
    },
    "id": "dEfKc5nQtUVF",
    "outputId": "29374cbc-eb31-4504-a99f-f7100db9fa24"
   },
   "outputs": [
    {
     "data": {
      "text/plain": [
       "<Axes: >"
      ]
     },
     "execution_count": 17,
     "metadata": {},
     "output_type": "execute_result"
    },
    {
     "data": {
      "image/png": "[encoded data removed]",
      "text/plain": [
       "<Figure size 500x500 with 1 Axes>"
      ]
     },
     "metadata": {},
     "output_type": "display_data"
    }
   ],
   "source": [
    "base = brazil.plot(facecolor=\"greenyellow\", edgecolor='black', linewidth=0.4,figsize=(5,5))\n",
    "citiesBrazil_clipped.plot(marker='+', color='red', markersize=15,\n",
    "                    ax=base)\n",
    "riversBrazil_clipped.plot(edgecolor='blue', linewidth=0.5,\n",
    "                    ax=base)"
   ]
  },
  {
   "cell_type": "markdown",
   "metadata": {
    "id": "dvwa-lxvVhKm"
   },
   "source": [
    "You can also check what geometries you have in your GDF:"
   ]
  },
  {
   "cell_type": "code",
   "execution_count": 18,
   "metadata": {
    "colab": {
     "base_uri": "https://localhost:8080/"
    },
    "id": "eFRRX6ktVhKm",
    "outputId": "2b28cca4-9a50-4c8d-d9dc-5322ceb2fb4e"
   },
   "outputs": [
    {
     "data": {
      "text/plain": [
       "29    MultiPolygon\n",
       "dtype: object"
      ]
     },
     "execution_count": 18,
     "metadata": {},
     "output_type": "execute_result"
    }
   ],
   "source": [
    "brazil.geom_type"
   ]
  },
  {
   "cell_type": "code",
   "execution_count": 19,
   "metadata": {
    "colab": {
     "base_uri": "https://localhost:8080/"
    },
    "id": "4azPePJXVhKm",
    "outputId": "4c4c388a-14bd-4c4f-8577-27d4e8da9d35"
   },
   "outputs": [
    {
     "data": {
      "text/plain": [
       "285    Point\n",
       "279    Point\n",
       "276    Point\n",
       "271    Point\n",
       "268    Point\n",
       "340    Point\n",
       "275    Point\n",
       "274    Point\n",
       "568    Point\n",
       "266    Point\n",
       "447    Point\n",
       "261    Point\n",
       "338    Point\n",
       "380    Point\n",
       "381    Point\n",
       "318    Point\n",
       "421    Point\n",
       "dtype: object"
      ]
     },
     "execution_count": 19,
     "metadata": {},
     "output_type": "execute_result"
    }
   ],
   "source": [
    "citiesBrazil_clipped.geom_type"
   ]
  },
  {
   "cell_type": "code",
   "execution_count": 20,
   "metadata": {
    "colab": {
     "base_uri": "https://localhost:8080/"
    },
    "id": "kr2e48rBVhKm",
    "outputId": "c515d67e-cddd-43ea-d5d5-c0f12cd7f9fd",
    "scrolled": true
   },
   "outputs": [
    {
     "data": {
      "text/plain": [
       "56         LineString\n",
       "55         LineString\n",
       "97         LineString\n",
       "67         LineString\n",
       "70         LineString\n",
       "38         LineString\n",
       "24    MultiLineString\n",
       "5          LineString\n",
       "64         LineString\n",
       "68         LineString\n",
       "83    MultiLineString\n",
       "92    MultiLineString\n",
       "59         LineString\n",
       "37         LineString\n",
       "80         LineString\n",
       "1     MultiLineString\n",
       "60         LineString\n",
       "29    MultiLineString\n",
       "66    MultiLineString\n",
       "62         LineString\n",
       "54         LineString\n",
       "dtype: object"
      ]
     },
     "execution_count": 20,
     "metadata": {},
     "output_type": "execute_result"
    }
   ],
   "source": [
    "riversBrazil_clipped.geom_type"
   ]
  },
  {
   "cell_type": "markdown",
   "metadata": {
    "id": "m-i0uek2VhKm"
   },
   "source": [
    "Notice that the amount of elements (rows) is different, and that all those elements do not belong to the exact geometry type."
   ]
  },
  {
   "cell_type": "markdown",
   "metadata": {
    "id": "FnrWwUWZtUVG"
   },
   "source": [
    "### Exercise 2\n",
    "<div class=\"alert-success\">\n",
    "\n",
    "1. Follow the same steps in this last section, but use Peru.\n",
    "2. Plot your three layers in R.\n",
    "    \n",
    "</div>"
   ]
  },
  {
   "cell_type": "markdown",
   "metadata": {
    "id": "gtN4Ov6sVhKu"
   },
   "source": [
    "<a class=\"anchor\" id=\"1\"></a>\n",
    "\n",
    "## Map Projection\n",
    "\n",
    "The CRS is a very important property of the maps. They affect three aspects:\n",
    "\n",
    "* shape\n",
    "* area\n",
    "* scale\n",
    "* direction\n",
    "\n",
    "Most maps come with a default CRS: 4326. Pay attention:"
   ]
  },
  {
   "cell_type": "code",
   "execution_count": 21,
   "metadata": {
    "colab": {
     "base_uri": "https://localhost:8080/"
    },
    "id": "nzk1lyxgVhKu",
    "outputId": "43f9c0e0-c8c3-4926-90f0-ecef60abe917"
   },
   "outputs": [
    {
     "data": {
      "text/plain": [
       "[Axis(name=Geodetic latitude, abbrev=Lat, direction=north, unit_auth_code=EPSG, unit_code=9122, unit_name=degree),\n",
       " Axis(name=Geodetic longitude, abbrev=Lon, direction=east, unit_auth_code=EPSG, unit_code=9122, unit_name=degree)]"
      ]
     },
     "execution_count": 21,
     "metadata": {},
     "output_type": "execute_result"
    }
   ],
   "source": [
    "# check units\n",
    "brazil.crs.axis_info"
   ]
  },
  {
   "cell_type": "markdown",
   "metadata": {
    "id": "0_qHiCsBVhKu"
   },
   "source": [
    "Polygons have a centroid. When we try getting a centroid from an **unprojected** polygon, you get:"
   ]
  },
  {
   "cell_type": "code",
   "execution_count": 22,
   "metadata": {
    "colab": {
     "base_uri": "https://localhost:8080/"
    },
    "id": "DtfWWIn6VhKv",
    "outputId": "90591761-c197-4216-8138-d5d912246160"
   },
   "outputs": [
    {
     "name": "stderr",
     "output_type": "stream",
     "text": [
      "<ipython-input-22-7f66e1ea2110>:2: UserWarning: Geometry is in a geographic CRS. Results from 'centroid' are likely incorrect. Use 'GeoSeries.to_crs()' to re-project geometries to a projected CRS before this operation.\n",
      "\n",
      "  brazil.centroid\n"
     ]
    },
    {
     "data": {
      "text/plain": [
       "29    POINT (-53.09009 -10.77302)\n",
       "dtype: geometry"
      ]
     },
     "execution_count": 22,
     "metadata": {},
     "output_type": "execute_result"
    }
   ],
   "source": [
    "# centroid\n",
    "brazil.centroid"
   ]
  },
  {
   "cell_type": "markdown",
   "metadata": {
    "id": "5Q1QxAm7VhKv"
   },
   "source": [
    "### Reprojecting"
   ]
  },
  {
   "cell_type": "markdown",
   "metadata": {
    "id": "q7q_o99BVhKv"
   },
   "source": [
    "A projected CRS will have units in meters or feet (or similar). You can request a crs per country [here](https://epsg.io/?q=brazil+kind%3APROJCRS):"
   ]
  },
  {
   "cell_type": "code",
   "execution_count": 23,
   "metadata": {
    "colab": {
     "base_uri": "https://localhost:8080/"
    },
    "id": "5EUIYakzVhKw",
    "outputId": "97d8b5ef-bba6-4e62-f24a-69128f3c08b1"
   },
   "outputs": [
    {
     "data": {
      "text/plain": [
       "[Axis(name=Easting, abbrev=X, direction=east, unit_auth_code=EPSG, unit_code=9001, unit_name=metre),\n",
       " Axis(name=Northing, abbrev=Y, direction=north, unit_auth_code=EPSG, unit_code=9001, unit_name=metre)]"
      ]
     },
     "execution_count": 23,
     "metadata": {},
     "output_type": "execute_result"
    }
   ],
   "source": [
    "# recommended for Brazil (meters)\n",
    "brazil.to_crs(5641).crs.axis_info"
   ]
  },
  {
   "cell_type": "code",
   "execution_count": null,
   "metadata": {
    "id": "A400bsXrVhKw"
   },
   "outputs": [],
   "source": [
    "# now this works\n",
    "brazil.to_crs(5641).centroid"
   ]
  },
  {
   "cell_type": "code",
   "execution_count": null,
   "metadata": {
    "id": "8OH4e5u2VhKw"
   },
   "outputs": [],
   "source": [
    "# replotting:\n",
    "\n",
    "base5641=brazil.to_crs(5641).plot()\n",
    "brazil.to_crs(5641).centroid.plot(color='red',ax=base5641)"
   ]
  },
  {
   "cell_type": "markdown",
   "metadata": {
    "id": "LTg6STuNVhKx"
   },
   "source": [
    "Let's keep the projected version for all our maps:"
   ]
  },
  {
   "cell_type": "code",
   "execution_count": null,
   "metadata": {
    "id": "o4ZxWLLWVhKx"
   },
   "outputs": [],
   "source": [
    "brazil_5641=brazil.to_crs(5641)\n",
    "\n",
    "cities_brazil_5641=citiesBrazil_clipped.to_crs(brazil_5641.crs)\n",
    "\n",
    "rivers_brazil_5641=riversBrazil_clipped.to_crs(brazil_5641.crs)\n",
    "\n"
   ]
  },
  {
   "cell_type": "code",
   "execution_count": null,
   "metadata": {
    "id": "CIf1jhiYVhKx"
   },
   "outputs": [],
   "source": [
    "# saving\n",
    "import os\n",
    "\n",
    "brazil_5641.to_file(os.path.join(\"maps\",\"brazilMaps_5641.gpkg\"), layer='country', driver=\"GPKG\")\n",
    "cities_brazil_5641.to_file(os.path.join(\"maps\",\"brazilMaps_5641.gpkg\"), layer='cities', driver=\"GPKG\")\n",
    "rivers_brazil_5641.to_file(os.path.join(\"maps\",\"brazilMaps_5641.gpkg\"), layer='rivers', driver=\"GPKG\")"
   ]
  },
  {
   "cell_type": "code",
   "execution_count": null,
   "metadata": {
    "id": "ygr2sZIdVhKx"
   },
   "outputs": [],
   "source": [
    "brazil_5641.centroid"
   ]
  },
  {
   "cell_type": "code",
   "execution_count": null,
   "metadata": {
    "id": "YzkMfj-VVhKx"
   },
   "outputs": [],
   "source": [
    "brazil_5641.centroid.to_file(os.path.join(\"maps\",\"brazilMaps_5641.gpkg\"), layer='centroid', driver=\"GPKG\")"
   ]
  },
  {
   "cell_type": "markdown",
   "metadata": {
    "id": "K4AU81XvVhKy"
   },
   "source": [
    "<a class=\"anchor\" id=\"3\"></a>\n",
    "\n",
    "## Creating Spatial data\n",
    "\n",
    "You will get Lines and Polygons as maps for sure, but that may not be the case with points. Let me download a **CSV** file with information on the airports in Brazil from this [website](https://data.humdata.org/dataset/ourairports-bra), I will save it in my **data** folder:"
   ]
  },
  {
   "cell_type": "code",
   "execution_count": null,
   "metadata": {
    "id": "w9pSs-sOVhKy"
   },
   "outputs": [],
   "source": [
    "import pandas as pd\n",
    "infoairports=pd.read_csv(os.path.join(\"data\",\"br-airports.csv\"))\n",
    "\n",
    "# some rows\n",
    "\n",
    "infoairports.iloc[[0,1,2,3,-4,-3,-2,-1],:] #head and tail"
   ]
  },
  {
   "cell_type": "markdown",
   "metadata": {
    "id": "nBzXS3eeVhKy"
   },
   "source": [
    "This needs some cleaning:"
   ]
  },
  {
   "cell_type": "code",
   "execution_count": null,
   "metadata": {
    "id": "5gzvQc38VhKy"
   },
   "outputs": [],
   "source": [
    "# bye first row\n",
    "infoairports.drop(index=0,inplace=True)\n",
    "infoairports.reset_index(drop=True, inplace=True)\n",
    "infoairports.head()"
   ]
  },
  {
   "cell_type": "code",
   "execution_count": null,
   "metadata": {
    "id": "iI6xD7uSVhKy"
   },
   "outputs": [],
   "source": [
    "# keep the  columns needed\n",
    "\n",
    "infoairports.columns"
   ]
  },
  {
   "cell_type": "code",
   "execution_count": null,
   "metadata": {
    "id": "QO5CDgLfVhKy"
   },
   "outputs": [],
   "source": [
    "keep=['name','type','latitude_deg', 'longitude_deg','elevation_ft','region_name','municipality']\n",
    "infoairports=infoairports.loc[:,keep]"
   ]
  },
  {
   "cell_type": "code",
   "execution_count": null,
   "metadata": {
    "id": "2i03i7XCVhKy"
   },
   "outputs": [],
   "source": [
    "infoairports.info()"
   ]
  },
  {
   "cell_type": "markdown",
   "metadata": {
    "id": "OWGznT9fVhKz"
   },
   "source": [
    "Some formatting:"
   ]
  },
  {
   "cell_type": "code",
   "execution_count": null,
   "metadata": {
    "id": "ZuPJ-kV6VhKz"
   },
   "outputs": [],
   "source": [
    "numericCols=['latitude_deg', 'longitude_deg','elevation_ft']\n",
    "infoairports[numericCols]=infoairports.loc[:,numericCols].apply(lambda x:pd.to_numeric(x))\n",
    "\n",
    "# now\n",
    "infoairports.info()"
   ]
  },
  {
   "cell_type": "code",
   "execution_count": null,
   "metadata": {
    "id": "wyfMudYdVhKz"
   },
   "outputs": [],
   "source": [
    "# let's plot\n",
    "\n",
    "base = brazil_5641.plot(color='white', edgecolor='black') #unprojected\n",
    "\n",
    "infoairports.plot.scatter(x = 'longitude_deg', y = 'latitude_deg',ax=base)"
   ]
  },
  {
   "cell_type": "markdown",
   "metadata": {
    "id": "4eJ8oRk0VhKz"
   },
   "source": [
    "Why is it wrong?"
   ]
  },
  {
   "cell_type": "code",
   "execution_count": null,
   "metadata": {
    "id": "MlsYFOR-VhKz"
   },
   "outputs": [],
   "source": [
    "airports=gpd.GeoDataFrame(data=infoairports.copy(),\n",
    "                 geometry=gpd.points_from_xy(infoairports.longitude_deg,\n",
    "                                             infoairports.latitude_deg),\n",
    "                 crs=brazil.crs.to_epsg())# the coordinates were in degrees - unprojected"
   ]
  },
  {
   "cell_type": "code",
   "execution_count": null,
   "metadata": {
    "id": "BiFmDOJAVhKz"
   },
   "outputs": [],
   "source": [
    "# does it look better?\n",
    "\n",
    "# let's plot\n",
    "\n",
    "base = brazil_5641.plot(color='white', edgecolor='black')\n",
    "airports.plot(ax=base)"
   ]
  },
  {
   "cell_type": "code",
   "execution_count": null,
   "metadata": {
    "id": "Y8arxMpmVhKz"
   },
   "outputs": [],
   "source": [
    "#remember:\n",
    "type(airports), type(infoairports)"
   ]
  },
  {
   "cell_type": "markdown",
   "metadata": {
    "id": "2ETnxaifVhKz"
   },
   "source": [
    "Let's keep the projected version:"
   ]
  },
  {
   "cell_type": "code",
   "execution_count": null,
   "metadata": {
    "id": "KcruGNQuVhK0"
   },
   "outputs": [],
   "source": [
    "airports_5641=airports.to_crs(5641)\n",
    "\n",
    "## then\n",
    "\n",
    "base = brazil_5641.plot(color='white', edgecolor='black')\n",
    "airports_5641.plot(ax=base)"
   ]
  },
  {
   "cell_type": "markdown",
   "metadata": {
    "id": "efQjDl2RVhK0"
   },
   "source": [
    "Remember you have type of airports:"
   ]
  },
  {
   "cell_type": "code",
   "execution_count": null,
   "metadata": {
    "id": "5gOzv_Z_VhK0"
   },
   "outputs": [],
   "source": [
    "airports_5641['type'].value_counts() # this will not work: airports.type.value_counts()"
   ]
  },
  {
   "cell_type": "markdown",
   "metadata": {
    "id": "VtScRUIqVhK0"
   },
   "source": [
    "We may use that in the future. For now, just rename the **type** column to a different one."
   ]
  },
  {
   "cell_type": "code",
   "execution_count": null,
   "metadata": {
    "id": "Pu2XGMXTVhK0"
   },
   "outputs": [],
   "source": [
    "airports_5641.rename(columns={'type':'kind'},inplace=True)"
   ]
  },
  {
   "cell_type": "code",
   "execution_count": null,
   "metadata": {
    "id": "aRT2JHxIVhK0"
   },
   "outputs": [],
   "source": [
    "# adding the airports\n",
    "airports_5641.to_file(os.path.join(\"maps\",\"brazilMaps_5641.gpkg\"), layer='airports', driver=\"GPKG\")"
   ]
  },
  {
   "cell_type": "markdown",
   "metadata": {
    "id": "CGEVqpIrVhK0"
   },
   "source": [
    "### Exercise 3\n",
    "<div class=\"alert-success\">\n",
    "\n",
    "1. Reproject your maps of Peru.\n",
    "2. Find the airports for Peru [here](https://ourairports.com/data/). The data is in a CSV file.\n",
    "3. Create projected layer of airports.\n",
    "4. Plot all the layers in R.\n",
    "    \n",
    "</div>"
   ]
  },
  {
   "cell_type": "markdown",
   "metadata": {
    "id": "TYalzJBcVhK0"
   },
   "source": [
    "## Geo Merging\n",
    "\n",
    "Remember we have these data:"
   ]
  },
  {
   "cell_type": "code",
   "execution_count": null,
   "metadata": {
    "id": "tY5-tSDQVhK1"
   },
   "outputs": [],
   "source": [
    "countries"
   ]
  },
  {
   "cell_type": "markdown",
   "metadata": {
    "id": "E04K9xPSVhK1"
   },
   "source": [
    "This map has no interesting information beyond the geometry. Let me bring this info:"
   ]
  },
  {
   "cell_type": "code",
   "execution_count": null,
   "metadata": {
    "id": "sGdvZmLnVhK1"
   },
   "outputs": [],
   "source": [
    "fragilityLink=\"https://github.com/SocialAnalytics-StrategicIntelligence/TableOperations/raw/main/dataFiles/fragility/fragilityCoded_2012_2023.pkl\"\n",
    "\n",
    "fragility=pd.read_pickle(fragilityLink)\n",
    "\n",
    "fragility.head()"
   ]
  },
  {
   "cell_type": "markdown",
   "metadata": {
    "id": "_1T9fuvlVhK1"
   },
   "source": [
    "We want to add the fragility data into the map. That is the merging process.\n",
    "For that, we need a common column. The country names is the option."
   ]
  },
  {
   "cell_type": "code",
   "execution_count": null,
   "metadata": {
    "id": "Dq_CFj0WVhK1"
   },
   "outputs": [],
   "source": [
    "# to upper case.\n",
    "countries['COUNTRY']=countries.COUNTRY.str.upper()"
   ]
  },
  {
   "cell_type": "markdown",
   "metadata": {
    "id": "FcLw3ElCVhK1"
   },
   "source": [
    "It is very unlikely the names are written the same. Verify:"
   ]
  },
  {
   "cell_type": "code",
   "execution_count": null,
   "metadata": {
    "id": "oTIcbaTyVhK2"
   },
   "outputs": [],
   "source": [
    "onlyFragil=set(fragility.Country)- set(countries.COUNTRY)\n",
    "onlyMap=set(countries.COUNTRY)- set(fragility.Country)"
   ]
  },
  {
   "cell_type": "markdown",
   "metadata": {
    "id": "asvfC2jSVhK2"
   },
   "source": [
    "Check here:"
   ]
  },
  {
   "cell_type": "code",
   "execution_count": null,
   "metadata": {
    "id": "3u0UZjd6VhK2"
   },
   "outputs": [],
   "source": [
    "onlyFragil"
   ]
  },
  {
   "cell_type": "code",
   "execution_count": null,
   "metadata": {
    "id": "M7KA_ll1VhK2"
   },
   "outputs": [],
   "source": [
    "# and here\n",
    "onlyMap"
   ]
  },
  {
   "cell_type": "markdown",
   "metadata": {
    "id": "ArQR9SI5VhK2"
   },
   "source": [
    "## Fuzzy merging"
   ]
  },
  {
   "cell_type": "markdown",
   "metadata": {
    "id": "4e4RKlDZVhK2"
   },
   "source": [
    "Let's find similar names:"
   ]
  },
  {
   "cell_type": "code",
   "execution_count": null,
   "metadata": {
    "id": "zp6OG-VHVhK2"
   },
   "outputs": [],
   "source": [
    "from thefuzz import process\n",
    "\n",
    "[(country, process.extractOne(country,onlyMap)) for country in sorted(onlyFragil)]"
   ]
  },
  {
   "cell_type": "code",
   "execution_count": null,
   "metadata": {
    "id": "qfBUS5YeVhK2"
   },
   "outputs": [],
   "source": [
    "# subsetting\n",
    "[(country, process.extractOne(country,onlyMap)) for country in sorted(onlyFragil)\n",
    " if process.extractOne(country,onlyMap)[1]>=90]"
   ]
  },
  {
   "cell_type": "markdown",
   "metadata": {
    "id": "Y7ukdn1RVhK2"
   },
   "source": [
    "Preparing a _dict_ of changes:"
   ]
  },
  {
   "cell_type": "code",
   "execution_count": null,
   "metadata": {
    "id": "oJiB9vSNVhK3"
   },
   "outputs": [],
   "source": [
    "# then:\n",
    "try1={country: process.extractOne(country,onlyMap)[0] for country in sorted(onlyFragil)\n",
    " if process.extractOne(country,onlyMap)[1]>=90}\n",
    "try1"
   ]
  },
  {
   "cell_type": "markdown",
   "metadata": {
    "id": "2hrPvVDNVhK3"
   },
   "source": [
    "Making changes and updating:"
   ]
  },
  {
   "cell_type": "code",
   "execution_count": null,
   "metadata": {
    "id": "Qz6ECZoDVhK3"
   },
   "outputs": [],
   "source": [
    "fragility.Country.replace(try1,inplace=True)\n",
    "\n",
    "# updating\n",
    "onlyFragil=set(fragility.Country)- set(countries.COUNTRY)\n",
    "onlyMap=set(countries.COUNTRY)- set(fragility.Country)\n",
    "\n",
    "# new matches\n",
    "[(country, process.extractOne(country,onlyMap)) for country in sorted(onlyFragil)]"
   ]
  },
  {
   "cell_type": "code",
   "execution_count": null,
   "metadata": {
    "id": "WsDYOItTVhK3"
   },
   "outputs": [],
   "source": [
    "# then:\n",
    "try2={country: process.extractOne(country,onlyMap)[0] for country in sorted(onlyFragil)\n",
    " if process.extractOne(country,onlyMap)[1]!=60}\n",
    "try2"
   ]
  },
  {
   "cell_type": "code",
   "execution_count": null,
   "metadata": {
    "id": "MUMI8IfMVhK3"
   },
   "outputs": [],
   "source": [
    "# changing\n",
    "fragility.Country.replace(try2,inplace=True)\n",
    "\n",
    "# new update\n",
    "onlyFragil=set(fragility.Country)- set(countries.COUNTRY)\n",
    "onlyMap=set(countries.COUNTRY)- set(fragility.Country)\n",
    "\n",
    "# new matches\n",
    "[(country, process.extractOne(country,onlyMap)) for country in sorted(onlyFragil)]"
   ]
  },
  {
   "cell_type": "markdown",
   "metadata": {
    "id": "k3OQ6NCpVhK3"
   },
   "source": [
    "At this stage, we go manual:"
   ]
  },
  {
   "cell_type": "code",
   "execution_count": null,
   "metadata": {
    "id": "60HvtBe6VhK3"
   },
   "outputs": [],
   "source": [
    "fragility.Country.replace({'ESWATINI': 'SWAZILAND'},inplace=True)\n",
    "\n",
    "#\n",
    "onlyFragil=set(fragility.Country)- set(countries.COUNTRY)\n",
    "onlyMap=set(countries.COUNTRY)- set(fragility.Country)\n",
    "\n",
    "#\n",
    "[(country, process.extractOne(country,onlyMap)) for country in sorted(onlyFragil)]\n"
   ]
  },
  {
   "cell_type": "markdown",
   "metadata": {
    "id": "bp4O5Jo8VhK3"
   },
   "source": [
    "We can not improve the situation.\n",
    "\n",
    "Now, when you merge a GDF with a DF, **the GDF has to be on the left**:"
   ]
  },
  {
   "cell_type": "code",
   "execution_count": null,
   "metadata": {
    "id": "NomZl6P6VhK4"
   },
   "outputs": [],
   "source": [
    "theMapAndData=countries.merge(fragility,left_on='COUNTRY', right_on='Country')\n",
    "# here it is (new map):\n",
    "theMapAndData.info()"
   ]
  },
  {
   "cell_type": "markdown",
   "metadata": {
    "id": "yCowfwPmVhK4"
   },
   "source": [
    "# Choropleths\n",
    "\n",
    "We should plan how to color the polygons based on some variable:"
   ]
  },
  {
   "cell_type": "code",
   "execution_count": null,
   "metadata": {
    "id": "kswd9TOLVhK4"
   },
   "outputs": [],
   "source": [
    "theMapAndData['Total_mnmx'].describe()"
   ]
  },
  {
   "cell_type": "code",
   "execution_count": null,
   "metadata": {
    "id": "k1JNWDhXVhK4"
   },
   "outputs": [],
   "source": [
    "theMapAndData.boxplot(column=['Total_mnmx'])"
   ]
  },
  {
   "cell_type": "code",
   "execution_count": null,
   "metadata": {
    "id": "H-WXYvPPVhK4"
   },
   "outputs": [],
   "source": [
    "theMapAndData['Total_mnmx'].hist()"
   ]
  },
  {
   "cell_type": "markdown",
   "metadata": {
    "id": "PN6b3mJdVhK4"
   },
   "source": [
    "Let's see other possibilities to cut the data (instead of the amount of intervals presented in the histogram), but please install [**numba**](https://numba.readthedocs.io/en/stable/user/installing.html) before runing the next code; also make sure you have **pysal**, **mapclassify** and **numpy** installed:"
   ]
  },
  {
   "cell_type": "code",
   "execution_count": null,
   "metadata": {
    "id": "iL_zOjPjVhK4"
   },
   "outputs": [],
   "source": [
    "pip show numba pysal mapclassify numpy"
   ]
  },
  {
   "cell_type": "code",
   "execution_count": null,
   "metadata": {
    "id": "awm07xtFVhK4"
   },
   "outputs": [],
   "source": [
    "import mapclassify\n",
    "import numpy as np\n",
    "\n",
    "np.random.seed(12345) # so we all get the same results!\n",
    "\n",
    "# let's try 5 intervals\n",
    "K=5\n",
    "theVar=theMapAndData.Total_mnmx\n",
    "# same interval width, easy interpretation\n",
    "ei5 = mapclassify.EqualInterval(theVar, k=K)\n",
    "# same interval width based on standard deviation, easy - but not as the previous one, poor when high skewness\n",
    "msd = mapclassify.StdMean(theVar)\n",
    "# interval width varies, counts per interval are close, not easy to grasp, repeated values complicate cuts\n",
    "q5=mapclassify.Quantiles(theVar,k=K)\n",
    "\n",
    "# based on similarity, good for multimodal data\n",
    "mb5 = mapclassify.MaximumBreaks(theVar, k=K)\n",
    "# based on similarity, good for skewed data\n",
    "ht = mapclassify.HeadTailBreaks(theVar) # no K needed\n",
    "# based on similarity, optimizer\n",
    "fj5 = mapclassify.FisherJenks(theVar, k=K)\n",
    "# based on similarity, optimizer\n",
    "jc5 = mapclassify.JenksCaspall(theVar, k=K)\n",
    "# based on similarity, optimizer\n",
    "mp5 = mapclassify.MaxP(theVar, k=K)"
   ]
  },
  {
   "cell_type": "markdown",
   "metadata": {
    "id": "GZ8GDD6yVhK4"
   },
   "source": [
    "How can we select the right classification?\n",
    "Let me use the the Absolute deviation around class median (ADCM) to make the comparisson:"
   ]
  },
  {
   "cell_type": "code",
   "execution_count": null,
   "metadata": {
    "id": "YqlnNcamVhK4"
   },
   "outputs": [],
   "source": [
    "class5 = ei5,msd, q5,mb5,  ht, fj5, jc5, mp5\n",
    "# Collect ADCM for each classifier\n",
    "fits = np.array([ c.adcm for c in class5])\n",
    "# Convert ADCM scores to a DataFrame\n",
    "adcms = pd.DataFrame(fits)\n",
    "# Add classifier names\n",
    "adcms['classifier'] = [c.name for c in class5]\n",
    "# Add column names to the ADCM\n",
    "adcms.columns = ['ADCM', 'Classifier']"
   ]
  },
  {
   "cell_type": "markdown",
   "metadata": {
    "id": "ESeBR9QuVhK5"
   },
   "source": [
    "Now, plot the **adcms**:"
   ]
  },
  {
   "cell_type": "code",
   "execution_count": null,
   "metadata": {
    "id": "u0jO1iMKVhK5"
   },
   "outputs": [],
   "source": [
    "adcms.sort_values('ADCM').plot.barh(x='Classifier')"
   ]
  },
  {
   "cell_type": "markdown",
   "metadata": {
    "id": "oUafi8u-VhK5"
   },
   "source": [
    "Let's save the best three strategies:"
   ]
  },
  {
   "cell_type": "code",
   "execution_count": null,
   "metadata": {
    "id": "8FQRsgx-VhK5"
   },
   "outputs": [],
   "source": [
    "theMapAndData.loc[:,'Total_ei5'] = ei5.yb\n",
    "theMapAndData.loc[:,'Total_fj5'] = fj5.yb\n",
    "theMapAndData.loc[:,'Total_jc5'] = jc5.yb"
   ]
  },
  {
   "cell_type": "code",
   "execution_count": null,
   "metadata": {
    "id": "cvnvJUZWVhK5"
   },
   "outputs": [],
   "source": [
    "# there you are\n",
    "theMapAndData.head()"
   ]
  },
  {
   "cell_type": "markdown",
   "metadata": {
    "id": "DNmGwMIUVhK5"
   },
   "source": [
    "Let's check the mean of 'Total_mnmx' by the labels of the columns created (from '0' to '4')"
   ]
  },
  {
   "cell_type": "code",
   "execution_count": null,
   "metadata": {
    "id": "35GPefCUVhK5"
   },
   "outputs": [],
   "source": [
    "indexList=['Total_ei5','Total_fj5','Total_jc5']\n",
    "aggregator={'Total_mnmx': ['mean']}\n",
    "\n",
    "pd.concat([theMapAndData[['Total_mnmx',col]].groupby(col,as_index=False).agg(aggregator) for col in indexList],axis=1)"
   ]
  },
  {
   "cell_type": "markdown",
   "metadata": {
    "id": "r50UjLglVhK5"
   },
   "source": [
    "Verify data types:"
   ]
  },
  {
   "cell_type": "code",
   "execution_count": null,
   "metadata": {
    "id": "AGlj5uErVhK6"
   },
   "outputs": [],
   "source": [
    "theMapAndData.info()"
   ]
  },
  {
   "cell_type": "markdown",
   "metadata": {
    "id": "CFCKh_JjVhK6"
   },
   "source": [
    "Let me create a copy of those columns with new names:"
   ]
  },
  {
   "cell_type": "code",
   "execution_count": null,
   "metadata": {
    "id": "_FmViXGXVhK6"
   },
   "outputs": [],
   "source": [
    "newColNames=[ name+\"_cat\" for name in indexList]\n",
    "\n",
    "theMapAndData[newColNames]=theMapAndData.loc[:,indexList]\n",
    "theMapAndData.head()"
   ]
  },
  {
   "cell_type": "code",
   "execution_count": null,
   "metadata": {
    "id": "iy8m02LeVhK6"
   },
   "outputs": [],
   "source": [
    "# renaming\n",
    "newLabelsForLevels={0:\"0_Great\", 1:\"1_Good\", 2:\"2_Middle\", 3:\"3_Bad\", 4:\"4_Poor\"}\n",
    "\n",
    "theMapAndData[newColNames]=theMapAndData.loc[:,newColNames].replace(newLabelsForLevels)\n",
    "theMapAndData.drop(columns=['Country'],inplace=True)\n",
    "theMapAndData"
   ]
  },
  {
   "cell_type": "markdown",
   "metadata": {
    "id": "WjaCtXnwVhK6"
   },
   "source": [
    "We are ready for a choropleth:"
   ]
  },
  {
   "cell_type": "code",
   "execution_count": null,
   "metadata": {
    "id": "QtyOnQ_nVhK6"
   },
   "outputs": [],
   "source": [
    "import matplotlib.pyplot as plt\n",
    "\n",
    "f, ax = plt.subplots(1, figsize=(10, 10))\n",
    "theMapAndData.plot(column='Total_ei5', # variable to plot\n",
    "                   cmap='viridis', # set of colors\n",
    "                   categorical=True, # can be interpreted as category\n",
    "                   edgecolor='white', # border color\n",
    "                   linewidth=0., # width of border\n",
    "                   alpha=1, # level of transparency (0 is invisible)\n",
    "                   legend=True, # need a legend?\n",
    "                   # location of legend: 'best', 'upper right', 'upper left', 'lower left',\n",
    "                   # 'lower right', 'right', 'center left', 'center right',\n",
    "                   # 'lower center', 'upper center', 'center'\n",
    "                   legend_kwds={'loc':\"lower left\"},\n",
    "        ax=ax\n",
    "       )\n",
    "\n",
    "ax.set_axis_off()"
   ]
  },
  {
   "cell_type": "code",
   "execution_count": null,
   "metadata": {
    "id": "DgHXhDQ3VhK6"
   },
   "outputs": [],
   "source": [
    "# alternatively:\n",
    "\n",
    "import matplotlib.pyplot as plt\n",
    "\n",
    "f, ax = plt.subplots(1, figsize=(10, 10))\n",
    "theMapAndData.plot(column='Total_ei5_cat', # annotated\n",
    "        cmap='viridis',\n",
    "        categorical=True,\n",
    "        edgecolor='white',\n",
    "        linewidth=0.,\n",
    "        alpha=1,\n",
    "        legend=True,\n",
    "        legend_kwds={'loc':3},\n",
    "        ax=ax\n",
    "       )\n",
    "\n",
    "ax.set_axis_off()"
   ]
  },
  {
   "cell_type": "markdown",
   "metadata": {
    "id": "1uuE5znXVhK6"
   },
   "source": [
    "Once you know the ADCM, you can request the choropleth without creating a variable:"
   ]
  },
  {
   "cell_type": "code",
   "execution_count": null,
   "metadata": {
    "id": "xl2b9UKSVhK6"
   },
   "outputs": [],
   "source": [
    "import matplotlib.pyplot as plt\n",
    "\n",
    "f, ax = plt.subplots(1, figsize=(10, 10))\n",
    "theMapAndData.plot(column='Total_mnmx',\n",
    "        cmap='viridis',\n",
    "                   scheme=\"equal_interval\",\n",
    "        edgecolor='white',\n",
    "        linewidth=0.,\n",
    "        alpha=0.75,\n",
    "        legend=True,\n",
    "        legend_kwds={'loc':3},\n",
    "        ax=ax\n",
    "       )\n",
    "\n",
    "ax.set_axis_off()"
   ]
  },
  {
   "cell_type": "code",
   "execution_count": null,
   "metadata": {
    "id": "v_-5CNoUVhK7"
   },
   "outputs": [],
   "source": [
    "import matplotlib.pyplot as plt\n",
    "\n",
    "f, ax = plt.subplots(1, figsize=(10, 10))\n",
    "theMapAndData.plot(column='Total_ei5_cat',\n",
    "        cmap='viridis',\n",
    "        categorical=True,\n",
    "        edgecolor='white',\n",
    "        linewidth=0.,\n",
    "        alpha=0.75,\n",
    "        legend=True,\n",
    "        legend_kwds={'loc':\"lower right\"},\n",
    "        ax=ax\n",
    "       )\n",
    "\n",
    "ax.set_axis_off()"
   ]
  },
  {
   "cell_type": "markdown",
   "metadata": {
    "id": "RDeHh4ukVhK7"
   },
   "source": [
    "### Exercise 4\n",
    "\n",
    "<div class=\"alert-success\">\n",
    "\n",
    "1. Add the column \"continent\" to the '_theMapAndData_' using the file from this [link from kagle](https://www.kaggle.com/datasets/andradaolteanu/country-mapping-iso-continent-region?resource=download).\n",
    "2. Keep the American continent.\n",
    "3. Compute the centroids of the countries in America      \n",
    "4. Use the centroids to represent the fragility (Total_ei5) of 2020 in a map using R.\n",
    "    \n",
    "</div>"
   ]
  },
  {
   "cell_type": "markdown",
   "metadata": {
    "id": "tbYry7srVhK7"
   },
   "source": [
    "Let's save our data"
   ]
  },
  {
   "cell_type": "code",
   "execution_count": null,
   "metadata": {
    "id": "RIiqxXIAVhK7"
   },
   "outputs": [],
   "source": [
    "theMapAndData.to_file(os.path.join(\"maps\",\"theMapAndData.gpkg\"), layer='fragility', driver=\"GPKG\")"
   ]
  },
  {
   "cell_type": "markdown",
   "metadata": {
    "id": "PsPzPOjrVhK7"
   },
   "source": [
    "<div class=\"alert alert-danger\">\n",
    "  <strong>CHALLENGE!</strong>\n",
    "   <br> * Use R to plot the countries whose fragility increased, decreased, or kept the the same the last 10 years.\n",
    "</div>"
   ]
  },
  {
   "cell_type": "code",
   "execution_count": null,
   "metadata": {
    "id": "Z2ORMX_SVhK7"
   },
   "outputs": [],
   "source": []
  }
 ],
 "metadata": {
  "anaconda-cloud": {
   "attach-environment": true,
   "summary": "test"
  },
  "colab": {
   "provenance": []
  },
  "hide_input": false,
  "kernelspec": {
   "display_name": "Python 3 (ipykernel)",
   "language": "python",
   "name": "python3"
  },
  "language_info": {
   "codemirror_mode": {
    "name": "ipython",
    "version": 3
   },
   "file_extension": ".py",
   "mimetype": "text/x-python",
   "name": "python",
   "nbconvert_exporter": "python",
   "pygments_lexer": "ipython3",
   "version": "3.11.7"
  },
  "toc-autonumbering": false
 },
 "nbformat": 4,
 "nbformat_minor": 4
}
